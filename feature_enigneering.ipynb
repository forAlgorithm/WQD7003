{
 "cells": [
  {
   "cell_type": "code",
   "execution_count": 1,
   "metadata": {
    "collapsed": true,
    "pycharm": {
     "name": "#%%\n"
    }
   },
   "outputs": [],
   "source": [
    "# reference\n",
    "# https://blog.csdn.net/CarryLvan/article/details/106797353\n",
    "import os\n",
    "import numpy as np\n",
    "import pandas as pd"
   ]
  },
  {
   "cell_type": "code",
   "execution_count": 95,
   "outputs": [
    {
     "data": {
      "text/plain": "   Unnamed: 0  CodeCentre   Age  DiabetesDuration  Gender  Ethnic3Cat  \\\n0           0           1  68.0                 5     1.0           3   \n1           1           1  65.0                33     1.0           2   \n2           2           1  56.0                 9     0.0           1   \n3           3           1  61.0                 5     0.0           2   \n4           4           1  58.0                20     0.0           1   \n\n   Religion6Cat  Religiosity3Cat  Marital4Cat  Education3cat  ...  Diet  OHA  \\\n0             4                1            1              1  ...   0.0  1.0   \n1             3                1            1              1  ...   0.0  0.0   \n2             2                1            2              1  ...   0.0  1.0   \n3             1                2            1              1  ...   0.0  1.0   \n4             2                1            1              1  ...   0.0  1.0   \n\n   Biguanide  Sufonylureas  AGI  OHAothers  Insulin  AHAnumber  LLAnumber  \\\n0        1.0           0.0  0.0        0.0      2.0        2.0        0.0   \n1        0.0           0.0  0.0        0.0      1.0        2.0        1.0   \n2        1.0           1.0  0.0        0.0      0.0        0.0        1.0   \n3        1.0           0.0  0.0        0.0      1.0        1.0        1.0   \n4        1.0           0.0  0.0        0.0      1.0        1.0        1.0   \n\n   APAnumber  \n0        1.0  \n1        1.0  \n2        0.0  \n3        0.0  \n4        0.0  \n\n[5 rows x 57 columns]",
      "text/html": "<div>\n<style scoped>\n    .dataframe tbody tr th:only-of-type {\n        vertical-align: middle;\n    }\n\n    .dataframe tbody tr th {\n        vertical-align: top;\n    }\n\n    .dataframe thead th {\n        text-align: right;\n    }\n</style>\n<table border=\"1\" class=\"dataframe\">\n  <thead>\n    <tr style=\"text-align: right;\">\n      <th></th>\n      <th>Unnamed: 0</th>\n      <th>CodeCentre</th>\n      <th>Age</th>\n      <th>DiabetesDuration</th>\n      <th>Gender</th>\n      <th>Ethnic3Cat</th>\n      <th>Religion6Cat</th>\n      <th>Religiosity3Cat</th>\n      <th>Marital4Cat</th>\n      <th>Education3cat</th>\n      <th>...</th>\n      <th>Diet</th>\n      <th>OHA</th>\n      <th>Biguanide</th>\n      <th>Sufonylureas</th>\n      <th>AGI</th>\n      <th>OHAothers</th>\n      <th>Insulin</th>\n      <th>AHAnumber</th>\n      <th>LLAnumber</th>\n      <th>APAnumber</th>\n    </tr>\n  </thead>\n  <tbody>\n    <tr>\n      <th>0</th>\n      <td>0</td>\n      <td>1</td>\n      <td>68.0</td>\n      <td>5</td>\n      <td>1.0</td>\n      <td>3</td>\n      <td>4</td>\n      <td>1</td>\n      <td>1</td>\n      <td>1</td>\n      <td>...</td>\n      <td>0.0</td>\n      <td>1.0</td>\n      <td>1.0</td>\n      <td>0.0</td>\n      <td>0.0</td>\n      <td>0.0</td>\n      <td>2.0</td>\n      <td>2.0</td>\n      <td>0.0</td>\n      <td>1.0</td>\n    </tr>\n    <tr>\n      <th>1</th>\n      <td>1</td>\n      <td>1</td>\n      <td>65.0</td>\n      <td>33</td>\n      <td>1.0</td>\n      <td>2</td>\n      <td>3</td>\n      <td>1</td>\n      <td>1</td>\n      <td>1</td>\n      <td>...</td>\n      <td>0.0</td>\n      <td>0.0</td>\n      <td>0.0</td>\n      <td>0.0</td>\n      <td>0.0</td>\n      <td>0.0</td>\n      <td>1.0</td>\n      <td>2.0</td>\n      <td>1.0</td>\n      <td>1.0</td>\n    </tr>\n    <tr>\n      <th>2</th>\n      <td>2</td>\n      <td>1</td>\n      <td>56.0</td>\n      <td>9</td>\n      <td>0.0</td>\n      <td>1</td>\n      <td>2</td>\n      <td>1</td>\n      <td>2</td>\n      <td>1</td>\n      <td>...</td>\n      <td>0.0</td>\n      <td>1.0</td>\n      <td>1.0</td>\n      <td>1.0</td>\n      <td>0.0</td>\n      <td>0.0</td>\n      <td>0.0</td>\n      <td>0.0</td>\n      <td>1.0</td>\n      <td>0.0</td>\n    </tr>\n    <tr>\n      <th>3</th>\n      <td>3</td>\n      <td>1</td>\n      <td>61.0</td>\n      <td>5</td>\n      <td>0.0</td>\n      <td>2</td>\n      <td>1</td>\n      <td>2</td>\n      <td>1</td>\n      <td>1</td>\n      <td>...</td>\n      <td>0.0</td>\n      <td>1.0</td>\n      <td>1.0</td>\n      <td>0.0</td>\n      <td>0.0</td>\n      <td>0.0</td>\n      <td>1.0</td>\n      <td>1.0</td>\n      <td>1.0</td>\n      <td>0.0</td>\n    </tr>\n    <tr>\n      <th>4</th>\n      <td>4</td>\n      <td>1</td>\n      <td>58.0</td>\n      <td>20</td>\n      <td>0.0</td>\n      <td>1</td>\n      <td>2</td>\n      <td>1</td>\n      <td>1</td>\n      <td>1</td>\n      <td>...</td>\n      <td>0.0</td>\n      <td>1.0</td>\n      <td>1.0</td>\n      <td>0.0</td>\n      <td>0.0</td>\n      <td>0.0</td>\n      <td>1.0</td>\n      <td>1.0</td>\n      <td>1.0</td>\n      <td>0.0</td>\n    </tr>\n  </tbody>\n</table>\n<p>5 rows × 57 columns</p>\n</div>"
     },
     "execution_count": 95,
     "metadata": {},
     "output_type": "execute_result"
    }
   ],
   "source": [
    "# load data\n",
    "path='Diabetes_complete.csv'\n",
    "data=pd.read_csv(path)\n",
    "type(data)\n",
    "# data.head()\n",
    "# data['cat_hba1c2']\n",
    "X = data.drop('HbA1c', axis=1)\n",
    "X.head()"
   ],
   "metadata": {
    "collapsed": false,
    "pycharm": {
     "name": "#%%\n"
    }
   }
  },
  {
   "cell_type": "code",
   "execution_count": 104,
   "outputs": [
    {
     "name": "stdout",
     "output_type": "stream",
     "text": [
      "The Outlier amounts of  Unnamed: 0 is :  0\n",
      "The Outlier amounts of  CodeCentre is :  0\n",
      "The Outlier amounts of  Age is :  0\n",
      "The Outlier amounts of  DiabetesDuration is :  32\n",
      "The Outlier amounts of  Gender is :  0\n",
      "The Outlier amounts of  Ethnic3Cat is :  0\n",
      "The Outlier amounts of  Religion6Cat is :  0\n",
      "The Outlier amounts of  Religiosity3Cat is :  101\n",
      "The Outlier amounts of  Marital4Cat is :  145\n",
      "The Outlier amounts of  Education3cat is :  120\n",
      "The Outlier amounts of  Employment3Cat is :  0\n",
      "The Outlier amounts of  Exercise is :  0\n",
      "The Outlier amounts of  Smoke3Cat is :  166\n",
      "The Outlier amounts of  SevereDDS is :  137\n",
      "The Outlier amounts of  SevereEB is :  0\n",
      "The Outlier amounts of  SeverePD is :  140\n",
      "The Outlier amounts of  SevereRD is :  172\n",
      "The Outlier amounts of  SevereIPD is :  0\n",
      "The Outlier amounts of  TotalEmotionalBurden is :  7\n",
      "The Outlier amounts of  TotalPhysicianDistress is :  22\n",
      "The Outlier amounts of  TotalRegimenDistress is :  14\n",
      "The Outlier amounts of  TotalInterpersonalDistress is :  0\n",
      "The Outlier amounts of  TotalDDS is :  10\n",
      "The Outlier amounts of  DistressDepress is :  137\n",
      "The Outlier amounts of  TotalPHQ is :  13\n",
      "The Outlier amounts of  DepressSeverity3Cat is :  0\n",
      "The Outlier amounts of  YearDiagnosed is :  31\n",
      "The Outlier amounts of  Weight is :  21\n",
      "The Outlier amounts of  Height is :  5\n",
      "The Outlier amounts of  BPTarget1 is :  0\n",
      "The Outlier amounts of  SBP is :  13\n",
      "The Outlier amounts of  DBP is :  5\n",
      "The Outlier amounts of  CBG is :  21\n",
      "The Outlier amounts of  LDL is :  38\n",
      "The Outlier amounts of  HDL is :  30\n",
      "The Outlier amounts of  TG is :  55\n",
      "The Outlier amounts of  TotalC is :  30\n",
      "The Outlier amounts of  HPT is :  150\n",
      "The Outlier amounts of  Dyslipid is :  0\n",
      "The Outlier amounts of  DiabetesCx1 is :  86\n",
      "The Outlier amounts of  MicroCx1 is :  53\n",
      "The Outlier amounts of  MacroCx1 is :  42\n",
      "The Outlier amounts of  Stroke is :  14\n",
      "The Outlier amounts of  IHD is :  31\n",
      "The Outlier amounts of  Retino is :  19\n",
      "The Outlier amounts of  Nephro is :  24\n",
      "The Outlier amounts of  DFP is :  22\n",
      "The Outlier amounts of  Diet is :  0\n",
      "The Outlier amounts of  OHA is :  62\n",
      "The Outlier amounts of  Biguanide is :  127\n",
      "The Outlier amounts of  Sufonylureas is :  0\n",
      "The Outlier amounts of  AGI is :  10\n",
      "The Outlier amounts of  OHAothers is :  37\n",
      "The Outlier amounts of  Insulin is :  11\n",
      "The Outlier amounts of  AHAnumber is :  0\n",
      "The Outlier amounts of  LLAnumber is :  163\n",
      "The Outlier amounts of  APAnumber is :  78\n"
     ]
    }
   ],
   "source": [
    "# outlier detection\n",
    "def outlider_detection(attr, item):\n",
    "    q_low = attr.quantile(q=0.25)\n",
    "    q_high = attr.quantile(q=0.75)\n",
    "    q_interval = q_high - q_low\n",
    "    index_high = tst <= (q_high + 1.5 * q_interval)\n",
    "    index_low = tst >= (q_low - 1.5 * q_interval)\n",
    "    print('The Outlier amounts of ', item, 'is : ', len(tst) - len(tst[index_low & index_high]))\n",
    "\n",
    "for item in X.columns:\n",
    "    tst = X[item]\n",
    "    outlider_detection(tst, item)"
   ],
   "metadata": {
    "collapsed": false,
    "pycharm": {
     "name": "#%%\n"
    }
   }
  },
  {
   "cell_type": "code",
   "execution_count": 107,
   "outputs": [
    {
     "name": "stdout",
     "output_type": "stream",
     "text": [
      "The skewness of  Unnamed: 0 is :  0.0\n",
      "The kurtosis of  Unnamed: 0 is :  -1.2000000000000002\n",
      "------\n",
      "The skewness of  CodeCentre is :  -0.3692936442958741\n",
      "The kurtosis of  CodeCentre is :  -1.6375591130168117\n",
      "------\n",
      "The skewness of  Age is :  -0.02570758520171387\n",
      "The kurtosis of  Age is :  -0.17450886929983378\n",
      "------\n",
      "The skewness of  DiabetesDuration is :  2.1600727262404833\n",
      "The kurtosis of  DiabetesDuration is :  6.406609437092195\n",
      "------\n",
      "The skewness of  Gender is :  0.10321474283490646\n",
      "The kurtosis of  Gender is :  -1.9950550724880305\n",
      "------\n",
      "The skewness of  Ethnic3Cat is :  0.5826517691748377\n",
      "The kurtosis of  Ethnic3Cat is :  -1.2880508729939113\n",
      "------\n",
      "The skewness of  Religion6Cat is :  1.0139456715217028\n",
      "The kurtosis of  Religion6Cat is :  0.2872801603902104\n",
      "------\n",
      "The skewness of  Religiosity3Cat is :  2.2466615682497117\n",
      "The kurtosis of  Religiosity3Cat is :  3.2558634147060785\n",
      "Religiosity3Cat  follows normal distribution.\n",
      "------\n",
      "The skewness of  Marital4Cat is :  2.5376794716284357\n",
      "The kurtosis of  Marital4Cat is :  6.04269852506545\n",
      "------\n",
      "The skewness of  Education3cat is :  0.30095466742068444\n",
      "The kurtosis of  Education3cat is :  2.7987711832321867\n",
      "Education3cat  follows normal distribution.\n",
      "------\n",
      "The skewness of  Employment3Cat is :  0.3795765077649091\n",
      "The kurtosis of  Employment3Cat is :  -1.1759064179528225\n",
      "------\n",
      "The skewness of  Exercise is :  0.3359725471048208\n",
      "The kurtosis of  Exercise is :  -1.343921757354702\n",
      "------\n",
      "The skewness of  Smoke3Cat is :  1.5399146773276897\n",
      "The kurtosis of  Smoke3Cat is :  0.6314359946107175\n",
      "------\n",
      "The skewness of  SevereDDS is :  1.5371891250450438\n",
      "The kurtosis of  SevereDDS is :  0.363982184528969\n",
      "------\n",
      "The skewness of  SevereEB is :  0.9047479096333765\n",
      "The kurtosis of  SevereEB is :  -1.18482462203408\n",
      "------\n",
      "The skewness of  SeverePD is :  1.5032231116781658\n",
      "The kurtosis of  SeverePD is :  0.2604155961077552\n",
      "------\n",
      "The skewness of  SevereRD is :  1.1838617760767858\n",
      "The kurtosis of  SevereRD is :  -0.6001943180396081\n",
      "------\n",
      "The skewness of  SevereIPD is :  1.130955130759048\n",
      "The kurtosis of  SevereIPD is :  -0.7230144311483158\n",
      "------\n",
      "The skewness of  TotalEmotionalBurden is :  0.6914535329413796\n",
      "The kurtosis of  TotalEmotionalBurden is :  -0.0944190263318534\n",
      "------\n",
      "The skewness of  TotalPhysicianDistress is :  1.385044731562047\n",
      "The kurtosis of  TotalPhysicianDistress is :  1.3361443964349324\n",
      "TotalPhysicianDistress  follows normal distribution.\n",
      "------\n",
      "The skewness of  TotalRegimenDistress is :  0.856588238301277\n",
      "The kurtosis of  TotalRegimenDistress is :  0.28490236493676635\n",
      "------\n",
      "The skewness of  TotalInterpersonalDistress is :  1.131903724490023\n",
      "The kurtosis of  TotalInterpersonalDistress is :  0.5266281435424576\n",
      "------\n",
      "The skewness of  TotalDDS is :  0.9081621904200556\n",
      "The kurtosis of  TotalDDS is :  0.3634844427460724\n",
      "------\n",
      "The skewness of  DistressDepress is :  1.5371891250450438\n",
      "The kurtosis of  DistressDepress is :  0.363982184528969\n",
      "------\n",
      "The skewness of  TotalPHQ is :  1.5435941267036437\n",
      "The kurtosis of  TotalPHQ is :  3.343540968382737\n",
      "TotalPHQ  follows normal distribution.\n",
      "------\n",
      "The skewness of  DepressSeverity3Cat is :  0.9364307386116685\n",
      "The kurtosis of  DepressSeverity3Cat is :  -0.3533849528069899\n",
      "------\n",
      "The skewness of  YearDiagnosed is :  -2.030712272867429\n",
      "The kurtosis of  YearDiagnosed is :  5.5543175917455905\n",
      "------\n",
      "The skewness of  Weight is :  1.0518336877472831\n",
      "The kurtosis of  Weight is :  2.9540304169523277\n",
      "Weight  follows normal distribution.\n",
      "------\n",
      "The skewness of  Height is :  -0.045150073750323004\n",
      "The kurtosis of  Height is :  2.4352845241905734\n",
      "Height  follows normal distribution.\n",
      "------\n",
      "The skewness of  BPTarget1 is :  0.8525668963326467\n",
      "The kurtosis of  BPTarget1 is :  -1.276785836699351\n",
      "------\n",
      "The skewness of  SBP is :  0.32662029866236575\n",
      "The kurtosis of  SBP is :  0.4301468337252188\n",
      "------\n",
      "The skewness of  DBP is :  0.8284528243175644\n",
      "The kurtosis of  DBP is :  3.4445021100189677\n",
      "DBP  follows normal distribution.\n",
      "------\n",
      "The skewness of  CBG is :  1.3629305944650179\n",
      "The kurtosis of  CBG is :  3.1616494150332772\n",
      "CBG  follows normal distribution.\n",
      "------\n",
      "The skewness of  LDL is :  0.9292102680046963\n",
      "The kurtosis of  LDL is :  2.137009243270646\n",
      "LDL  follows normal distribution.\n",
      "------\n",
      "The skewness of  HDL is :  3.3985879286709566\n",
      "The kurtosis of  HDL is :  24.863896284472194\n",
      "------\n",
      "The skewness of  TG is :  3.952460152577409\n",
      "The kurtosis of  TG is :  23.199358668734927\n",
      "------\n",
      "The skewness of  TotalC is :  1.100444911098511\n",
      "The kurtosis of  TotalC is :  3.029821213873935\n",
      "TotalC  follows normal distribution.\n",
      "------\n",
      "The skewness of  HPT is :  -1.395613630183281\n",
      "The kurtosis of  HPT is :  -0.05242054381839001\n",
      "------\n",
      "The skewness of  Dyslipid is :  0.36676404695039466\n",
      "The kurtosis of  Dyslipid is :  -1.8708375809216344\n",
      "------\n",
      "The skewness of  DiabetesCx1 is :  2.3026752689062304\n",
      "The kurtosis of  DiabetesCx1 is :  3.311767450447334\n",
      "DiabetesCx1  follows normal distribution.\n",
      "------\n",
      "The skewness of  MicroCx1 is :  3.2146119520961753\n",
      "The kurtosis of  MicroCx1 is :  8.357600784571433\n",
      "------\n",
      "The skewness of  MacroCx1 is :  3.713430545121314\n",
      "The kurtosis of  MacroCx1 is :  11.823339346102394\n",
      "------\n",
      "The skewness of  Stroke is :  6.871877081957333\n",
      "The kurtosis of  Stroke is :  45.35226488386957\n",
      "------\n",
      "The skewness of  IHD is :  4.4397545212739695\n",
      "The kurtosis of  IHD is :  17.76216127384252\n",
      "------\n",
      "The skewness of  Retino is :  5.832299506836479\n",
      "The kurtosis of  Retino is :  32.10744529542281\n",
      "------\n",
      "The skewness of  Nephro is :  5.129804475955174\n",
      "The kurtosis of  Nephro is :  24.384556231991343\n",
      "------\n",
      "The skewness of  DFP is :  5.382819751067404\n",
      "The kurtosis of  DFP is :  27.052032133814684\n",
      "------\n",
      "The skewness of  Diet is :  0.05728903040140541\n",
      "The kurtosis of  Diet is :  -2.002447443769309\n",
      "------\n",
      "The skewness of  OHA is :  -2.9023413182403504\n",
      "The kurtosis of  OHA is :  6.441982692657028\n",
      "------\n",
      "The skewness of  Biguanide is :  8.738684838715164\n",
      "The kurtosis of  Biguanide is :  174.0975865513605\n",
      "------\n",
      "The skewness of  Sufonylureas is :  -0.18402080144021188\n",
      "The kurtosis of  Sufonylureas is :  -1.9717781946266506\n",
      "------\n",
      "The skewness of  AGI is :  8.203828116052131\n",
      "The kurtosis of  AGI is :  65.48990235430313\n",
      "------\n",
      "The skewness of  OHAothers is :  4.005427656870206\n",
      "The kurtosis of  OHAothers is :  14.083681794762548\n",
      "------\n",
      "The skewness of  Insulin is :  1.2602450623003174\n",
      "The kurtosis of  Insulin is :  0.8106691098856524\n",
      "------\n",
      "The skewness of  AHAnumber is :  0.1719368095469798\n",
      "The kurtosis of  AHAnumber is :  -0.7549808388470001\n",
      "------\n",
      "The skewness of  LLAnumber is :  -1.1247584069583616\n",
      "The kurtosis of  LLAnumber is :  -0.09125979886605062\n",
      "------\n",
      "The skewness of  APAnumber is :  2.672862672177418\n",
      "The kurtosis of  APAnumber is :  6.066958669884157\n",
      "------\n"
     ]
    }
   ],
   "source": [
    "# skewness and lurtosis\n",
    "# skewness > 0: right skewed, has larger mean value\n",
    "# skewness < 0: left skewed, has smaller mean value\n",
    "# skewness = 0:\n",
    "# kurtosis of normal distribution is 3. If the difference of kurtosis between one attr and 3 is larger than 2, the attr doesn't fit normal distribution.  ---> normal distribution:  1 < kurtosis of attr < 5\n",
    "for item in X.columns:\n",
    "    tst = X[item]\n",
    "    print('The skewness of ', item, 'is : ', tst.skew())\n",
    "    print('The kurtosis of ', item, 'is : ', tst.kurtosis())\n",
    "    if 5 >= tst.kurtosis() >= 1:\n",
    "        print(item, ' follows normal distribution.')\n",
    "    print('------')\n",
    "\n",
    "# Religiosity3Cat: right-skewed normal distribution\n",
    "# Education3cat: normal distribution\n",
    "# TotalPhysicianDistress: left-skewed normal distribution\n",
    "# TotalPHQ: left-skewed normal distribution\n",
    "# Weight： left-skewed normal distribution\n",
    "# Height: normal distribution\n",
    "# DBP: normal distribution\n",
    "# CBG： right-skewed normal distribution\n",
    "# LDL： right-skewed normal distribution\n",
    "# TotalC： left-skewed normal distribution\n",
    "# DiabetesCx1： right-skewed normal distribution"
   ],
   "metadata": {
    "collapsed": false,
    "pycharm": {
     "name": "#%%\n"
    }
   }
  },
  {
   "cell_type": "code",
   "execution_count": 120,
   "outputs": [
    {
     "name": "stdout",
     "output_type": "stream",
     "text": [
      "Null hypothesis: target attribute comes from a normal distribution\n",
      "Normal Distribution Test of  Religiosity3Cat :\n",
      "P-value of  Religiosity3Cat is :  4.854655633371173e-66\n",
      "Chi-Square value of  Religiosity3Cat is :  300.781355937368\n",
      "The null hypothesis can be rejected.\n",
      "Religiosity3Cat doesn't come from a normal distribution.\n",
      "------------\n",
      "Normal Distribution Test of  Education3cat :\n",
      "P-value of  Education3cat is :  6.495627040180481e-14\n",
      "Chi-Square value of  Education3cat is :  60.730124228941634\n",
      "The null hypothesis can be rejected.\n",
      "Education3cat doesn't come from a normal distribution.\n",
      "------------\n",
      "Normal Distribution Test of  TotalPhysicianDistress :\n",
      "P-value of  TotalPhysicianDistress is :  8.48021063194758e-35\n",
      "Chi-Square value of  TotalPhysicianDistress is :  156.90548593324638\n",
      "The null hypothesis can be rejected.\n",
      "TotalPhysicianDistress doesn't come from a normal distribution.\n",
      "------------\n",
      "Normal Distribution Test of  TotalPHQ :\n",
      "P-value of  TotalPHQ is :  1.7424140393636428e-47\n",
      "Chi-Square value of  TotalPHQ is :  215.33245568014004\n",
      "The null hypothesis can be rejected.\n",
      "TotalPHQ doesn't come from a normal distribution.\n",
      "------------\n",
      "Normal Distribution Test of  Weight :\n",
      "P-value of  Weight is :  3.6891978934905434e-32\n",
      "Chi-Square value of  Weight is :  144.75462782884753\n",
      "The null hypothesis can be rejected.\n",
      "Weight doesn't come from a normal distribution.\n",
      "------------\n",
      "Normal Distribution Test of  Height :\n",
      "P-value of  Height is :  2.742976752216106e-10\n",
      "Chi-Square value of  Height is :  44.033614386668056\n",
      "The null hypothesis can be rejected.\n",
      "Height doesn't come from a normal distribution.\n",
      "------------\n",
      "Normal Distribution Test of  DBP :\n",
      "P-value of  DBP is :  8.271410043691402e-28\n",
      "Chi-Square value of  DBP is :  124.71915521656075\n",
      "The null hypothesis can be rejected.\n",
      "DBP doesn't come from a normal distribution.\n",
      "------------\n",
      "Normal Distribution Test of  CBG :\n",
      "P-value of  CBG is :  9.716569659146699e-42\n",
      "Chi-Square value of  CBG is :  188.86948253058526\n",
      "The null hypothesis can be rejected.\n",
      "CBG doesn't come from a normal distribution.\n",
      "------------\n",
      "Normal Distribution Test of  LDL :\n",
      "P-value of  LDL is :  1.7639019640560115e-25\n",
      "Chi-Square value of  LDL is :  113.99419788948582\n",
      "The null hypothesis can be rejected.\n",
      "LDL doesn't come from a normal distribution.\n",
      "------------\n",
      "Normal Distribution Test of  TotalC :\n",
      "P-value of  TotalC is :  8.205213955292902e-34\n",
      "Chi-Square value of  TotalC is :  152.36624672277344\n",
      "The null hypothesis can be rejected.\n",
      "TotalC doesn't come from a normal distribution.\n",
      "------------\n",
      "Normal Distribution Test of  DiabetesCx1 :\n",
      "P-value of  DiabetesCx1 is :  1.1456010096576556e-67\n",
      "Chi-Square value of  DiabetesCx1 is :  308.2745436640839\n",
      "The null hypothesis can be rejected.\n",
      "DiabetesCx1 doesn't come from a normal distribution.\n",
      "------------\n"
     ]
    }
   ],
   "source": [
    "import scipy.stats as ss\n",
    "tested = ['Religiosity3Cat', 'Education3cat','TotalPhysicianDistress', 'TotalPHQ', 'Weight', 'Height', 'DBP', 'CBG', 'LDL', 'TotalC', 'DiabetesCx1']\n",
    "print('Null hypothesis: target attribute comes from a normal distribution')\n",
    "for item in tested:\n",
    "    tst = X[item]\n",
    "    print('Normal Distribution Test of ', item, ':')\n",
    "    chi_square, p = ss.normaltest(tst)\n",
    "    print('P-value of ', item, 'is : ', p)\n",
    "    print('Chi-Square value of ', item, 'is : ', chi_square)\n",
    "    if p<0.05:\n",
    "        print('The null hypothesis can be rejected.')\n",
    "        print(item, \"doesn't come from a normal distribution.\")\n",
    "    else:\n",
    "        print('The null hypothesis cannot be rejected.')\n",
    "        print(item, \"comes from a normal distribution.\")\n",
    "    print('------------')\n",
    "\n"
   ],
   "metadata": {
    "collapsed": false,
    "pycharm": {
     "name": "#%%\n"
    }
   }
  },
  {
   "cell_type": "code",
   "execution_count": 121,
   "outputs": [
    {
     "name": "stdout",
     "output_type": "stream",
     "text": [
      "Null hypothesis: target attribute comes from a normal distribution\n",
      "------------\n",
      "------------\n",
      "Normal Distribution Test of  Age :\n",
      "P-value of  Age is :  0.607604116597398\n",
      "Chi-Square value of  Age is :  0.9964634662134264\n",
      "The null hypothesis cannot be rejected.\n",
      "Age  comes from a normal distribution.\n",
      "------------\n",
      "------------\n",
      "------------\n",
      "------------\n",
      "------------\n",
      "------------\n",
      "------------\n",
      "------------\n",
      "------------\n",
      "------------\n",
      "------------\n",
      "------------\n",
      "------------\n",
      "------------\n",
      "------------\n",
      "------------\n",
      "------------\n",
      "------------\n",
      "------------\n",
      "------------\n",
      "------------\n",
      "------------\n",
      "------------\n",
      "------------\n",
      "------------\n",
      "------------\n",
      "------------\n",
      "------------\n",
      "------------\n",
      "------------\n",
      "------------\n",
      "------------\n",
      "------------\n",
      "------------\n",
      "------------\n",
      "------------\n",
      "------------\n",
      "------------\n",
      "------------\n",
      "------------\n",
      "------------\n",
      "------------\n",
      "------------\n",
      "------------\n",
      "------------\n",
      "------------\n",
      "------------\n",
      "------------\n",
      "------------\n",
      "------------\n",
      "------------\n",
      "------------\n",
      "------------\n",
      "------------\n",
      "------------\n"
     ]
    }
   ],
   "source": [
    "import scipy.stats as ss\n",
    "print('Null hypothesis: target attribute comes from a normal distribution')\n",
    "for item in X.columns:\n",
    "    tst = X[item]\n",
    "    chi_square, p = ss.normaltest(tst)\n",
    "    if p>0.05:\n",
    "        print('Normal Distribution Test of ', item, ':')\n",
    "        print('P-value of ', item, 'is : ', p)\n",
    "        print('Chi-Square value of ', item, 'is : ', chi_square)\n",
    "        print('The null hypothesis cannot be rejected.')\n",
    "        print(item, \" comes from a normal distribution.\")\n",
    "    print('------------')\n",
    "# Exactly the only normal distribution is age. Other attributes doesn't strictly come from it."
   ],
   "metadata": {
    "collapsed": false,
    "pycharm": {
     "name": "#%%\n"
    }
   }
  },
  {
   "cell_type": "code",
   "execution_count": 108,
   "outputs": [
    {
     "name": "stdout",
     "output_type": "stream",
     "text": [
      "Gender  :  ['Smoke3Cat' 'Height']\n",
      "SevereDDS  :  ['SevereEB' 'SeverePD' 'SevereRD' 'SevereIPD' 'TotalEmotionalBurden'\n",
      " 'TotalPhysicianDistress' 'TotalRegimenDistress'\n",
      " 'TotalInterpersonalDistress' 'TotalDDS' 'DistressDepress']\n",
      "SevereEB  :  ['SevereDDS' 'SevereRD' 'TotalEmotionalBurden' 'TotalPhysicianDistress'\n",
      " 'TotalRegimenDistress' 'TotalInterpersonalDistress' 'TotalDDS'\n",
      " 'DistressDepress']\n",
      "SeverePD  :  ['SevereDDS' 'TotalPhysicianDistress' 'TotalRegimenDistress'\n",
      " 'TotalInterpersonalDistress' 'TotalDDS' 'DistressDepress']\n",
      "SevereRD  :  ['SevereDDS' 'SevereEB' 'SevereIPD' 'TotalEmotionalBurden'\n",
      " 'TotalPhysicianDistress' 'TotalRegimenDistress'\n",
      " 'TotalInterpersonalDistress' 'TotalDDS' 'DistressDepress']\n",
      "SevereIPD  :  ['SevereDDS' 'SevereRD' 'TotalPhysicianDistress' 'TotalRegimenDistress'\n",
      " 'TotalInterpersonalDistress' 'TotalDDS' 'DistressDepress']\n",
      "TotalEmotionalBurden  :  ['SevereDDS' 'SevereEB' 'SevereRD' 'TotalPhysicianDistress'\n",
      " 'TotalRegimenDistress' 'TotalInterpersonalDistress' 'TotalDDS'\n",
      " 'DistressDepress' 'TotalPHQ']\n",
      "TotalPhysicianDistress  :  ['SevereDDS' 'SevereEB' 'SeverePD' 'SevereRD' 'SevereIPD'\n",
      " 'TotalEmotionalBurden' 'TotalRegimenDistress'\n",
      " 'TotalInterpersonalDistress' 'TotalDDS' 'DistressDepress']\n",
      "TotalRegimenDistress  :  ['SevereDDS' 'SevereEB' 'SeverePD' 'SevereRD' 'SevereIPD'\n",
      " 'TotalEmotionalBurden' 'TotalPhysicianDistress'\n",
      " 'TotalInterpersonalDistress' 'TotalDDS' 'DistressDepress']\n",
      "TotalInterpersonalDistress  :  ['SevereDDS' 'SevereEB' 'SeverePD' 'SevereRD' 'SevereIPD'\n",
      " 'TotalEmotionalBurden' 'TotalPhysicianDistress' 'TotalRegimenDistress'\n",
      " 'TotalDDS' 'DistressDepress']\n",
      "TotalDDS  :  ['SevereDDS' 'SevereEB' 'SeverePD' 'SevereRD' 'SevereIPD'\n",
      " 'TotalEmotionalBurden' 'TotalPhysicianDistress' 'TotalRegimenDistress'\n",
      " 'TotalInterpersonalDistress' 'DistressDepress']\n",
      "DistressDepress  :  ['SevereDDS' 'SevereEB' 'SeverePD' 'SevereRD' 'SevereIPD'\n",
      " 'TotalEmotionalBurden' 'TotalPhysicianDistress' 'TotalRegimenDistress'\n",
      " 'TotalInterpersonalDistress' 'TotalDDS']\n",
      "TotalPHQ  :  ['TotalEmotionalBurden' 'DepressSeverity3Cat']\n",
      "DiabetesCx1  :  ['MicroCx1' 'MacroCx1' 'IHD' 'Nephro']\n",
      "MicroCx1  :  ['DiabetesCx1' 'Retino' 'Nephro' 'DFP']\n",
      "MacroCx1  :  ['DiabetesCx1' 'Stroke' 'IHD']\n",
      "IHD  :  ['DiabetesCx1' 'MacroCx1']\n",
      "Nephro  :  ['DiabetesCx1' 'MicroCx1']\n"
     ]
    }
   ],
   "source": [
    "# All those correlations > 0.5\n",
    "mtx = X.corr()\n",
    "for item in X.columns:\n",
    "    # print(item)\n",
    "    dat = mtx[(abs(mtx[item]) > 0.5)]\n",
    "    list_corr = dat.index.values\n",
    "    idx = np.where(list_corr == item)[0]\n",
    "    result_corr = np.delete(list_corr, idx)\n",
    "    if len(result_corr) > 1:\n",
    "        # print('The high correlation with ', item, 'contains', dat.index.values)\n",
    "        print(item, ' : ', result_corr)"
   ],
   "metadata": {
    "collapsed": false,
    "pycharm": {
     "name": "#%%\n"
    }
   }
  },
  {
   "cell_type": "code",
   "execution_count": 136,
   "outputs": [
    {
     "data": {
      "text/plain": "HbA1c                         1.000000\nCBG                           0.459909\nInsulin                       0.400018\nTotalC                        0.299069\nTG                            0.220501\nDiabetesDuration              0.209004\nYearDiagnosed                 0.201287\nLDL                           0.185831\nAge                           0.178949\nRetino                        0.094700\nSufonylureas                  0.089708\nHPT                           0.086472\nEmployment3Cat                0.083472\nOHAothers                     0.079323\nOHA                           0.075708\nSBP                           0.074679\nMicroCx1                      0.062507\nDepressSeverity3Cat           0.062421\nTotalEmotionalBurden          0.057570\nEthnic3Cat                    0.057080\nTotalRegimenDistress          0.054097\nMarital4Cat                   0.052149\nBiguanide                     0.047512\nTotalPHQ                      0.046548\nBPTarget1                     0.045964\nHeight                        0.045118\nExercise                      0.043791\nStroke                        0.040260\nAHAnumber                     0.040054\nGender                        0.037962\nDiabetesCx1                   0.036864\nNephro                        0.035612\nAPAnumber                     0.033733\nSmoke3Cat                     0.033258\nTotalDDS                      0.026666\nDyslipid                      0.026475\nSevereEB                      0.025741\nSevereDDS                     0.024072\nDistressDepress               0.024072\nUnnamed: 0                    0.021388\nSeverePD                      0.020677\nWeight                        0.018504\nReligion6Cat                  0.017439\nDiet                          0.016934\nMacroCx1                      0.016840\nHDL                           0.010621\nIHD                           0.009266\nCodeCentre                    0.009024\nSevereIPD                     0.007934\nTotalPhysicianDistress        0.007870\nTotalInterpersonalDistress    0.006153\nLLAnumber                     0.005231\nDBP                           0.004181\nReligiosity3Cat               0.003853\nEducation3cat                 0.003177\nAGI                           0.001904\nDFP                           0.000810\nSevereRD                      0.000528\nName: HbA1c, dtype: float64"
     },
     "execution_count": 136,
     "metadata": {},
     "output_type": "execute_result"
    }
   ],
   "source": [
    "mtx_data = data.corr()\n",
    "abs(mtx_data['HbA1c']).sort_values(ascending=False)"
   ],
   "metadata": {
    "collapsed": false,
    "pycharm": {
     "name": "#%%\n"
    }
   }
  },
  {
   "cell_type": "code",
   "execution_count": 133,
   "outputs": [
    {
     "name": "stderr",
     "output_type": "stream",
     "text": [
      "C:\\Users\\WilliamGinWolf\\AppData\\Local\\Temp\\ipykernel_34084\\45322018.py:1: UserWarning: Boolean Series key will be reindexed to match DataFrame index.\n",
      "  correlated_data = data[correlated]\n"
     ]
    },
    {
     "ename": "IndexingError",
     "evalue": "Unalignable boolean Series provided as indexer (index of the boolean Series and of the indexed object do not match).",
     "output_type": "error",
     "traceback": [
      "\u001B[1;31m---------------------------------------------------------------------------\u001B[0m",
      "\u001B[1;31mIndexingError\u001B[0m                             Traceback (most recent call last)",
      "Input \u001B[1;32mIn [133]\u001B[0m, in \u001B[0;36m<cell line: 1>\u001B[1;34m()\u001B[0m\n\u001B[1;32m----> 1\u001B[0m correlated_data \u001B[38;5;241m=\u001B[39m \u001B[43mdata\u001B[49m\u001B[43m[\u001B[49m\u001B[43mcorrelated\u001B[49m\u001B[43m]\u001B[49m\n\u001B[0;32m      2\u001B[0m correlated_data\n",
      "File \u001B[1;32mD:\\Anaconda\\lib\\site-packages\\pandas\\core\\frame.py:3496\u001B[0m, in \u001B[0;36mDataFrame.__getitem__\u001B[1;34m(self, key)\u001B[0m\n\u001B[0;32m   3494\u001B[0m \u001B[38;5;66;03m# Do we have a (boolean) 1d indexer?\u001B[39;00m\n\u001B[0;32m   3495\u001B[0m \u001B[38;5;28;01mif\u001B[39;00m com\u001B[38;5;241m.\u001B[39mis_bool_indexer(key):\n\u001B[1;32m-> 3496\u001B[0m     \u001B[38;5;28;01mreturn\u001B[39;00m \u001B[38;5;28;43mself\u001B[39;49m\u001B[38;5;241;43m.\u001B[39;49m\u001B[43m_getitem_bool_array\u001B[49m\u001B[43m(\u001B[49m\u001B[43mkey\u001B[49m\u001B[43m)\u001B[49m\n\u001B[0;32m   3498\u001B[0m \u001B[38;5;66;03m# We are left with two options: a single key, and a collection of keys,\u001B[39;00m\n\u001B[0;32m   3499\u001B[0m \u001B[38;5;66;03m# We interpret tuples as collections only for non-MultiIndex\u001B[39;00m\n\u001B[0;32m   3500\u001B[0m is_single_key \u001B[38;5;241m=\u001B[39m \u001B[38;5;28misinstance\u001B[39m(key, \u001B[38;5;28mtuple\u001B[39m) \u001B[38;5;129;01mor\u001B[39;00m \u001B[38;5;129;01mnot\u001B[39;00m is_list_like(key)\n",
      "File \u001B[1;32mD:\\Anaconda\\lib\\site-packages\\pandas\\core\\frame.py:3549\u001B[0m, in \u001B[0;36mDataFrame._getitem_bool_array\u001B[1;34m(self, key)\u001B[0m\n\u001B[0;32m   3543\u001B[0m     \u001B[38;5;28;01mraise\u001B[39;00m \u001B[38;5;167;01mValueError\u001B[39;00m(\n\u001B[0;32m   3544\u001B[0m         \u001B[38;5;124mf\u001B[39m\u001B[38;5;124m\"\u001B[39m\u001B[38;5;124mItem wrong length \u001B[39m\u001B[38;5;132;01m{\u001B[39;00m\u001B[38;5;28mlen\u001B[39m(key)\u001B[38;5;132;01m}\u001B[39;00m\u001B[38;5;124m instead of \u001B[39m\u001B[38;5;132;01m{\u001B[39;00m\u001B[38;5;28mlen\u001B[39m(\u001B[38;5;28mself\u001B[39m\u001B[38;5;241m.\u001B[39mindex)\u001B[38;5;132;01m}\u001B[39;00m\u001B[38;5;124m.\u001B[39m\u001B[38;5;124m\"\u001B[39m\n\u001B[0;32m   3545\u001B[0m     )\n\u001B[0;32m   3547\u001B[0m \u001B[38;5;66;03m# check_bool_indexer will throw exception if Series key cannot\u001B[39;00m\n\u001B[0;32m   3548\u001B[0m \u001B[38;5;66;03m# be reindexed to match DataFrame rows\u001B[39;00m\n\u001B[1;32m-> 3549\u001B[0m key \u001B[38;5;241m=\u001B[39m \u001B[43mcheck_bool_indexer\u001B[49m\u001B[43m(\u001B[49m\u001B[38;5;28;43mself\u001B[39;49m\u001B[38;5;241;43m.\u001B[39;49m\u001B[43mindex\u001B[49m\u001B[43m,\u001B[49m\u001B[43m \u001B[49m\u001B[43mkey\u001B[49m\u001B[43m)\u001B[49m\n\u001B[0;32m   3550\u001B[0m indexer \u001B[38;5;241m=\u001B[39m key\u001B[38;5;241m.\u001B[39mnonzero()[\u001B[38;5;241m0\u001B[39m]\n\u001B[0;32m   3551\u001B[0m \u001B[38;5;28;01mreturn\u001B[39;00m \u001B[38;5;28mself\u001B[39m\u001B[38;5;241m.\u001B[39m_take_with_is_copy(indexer, axis\u001B[38;5;241m=\u001B[39m\u001B[38;5;241m0\u001B[39m)\n",
      "File \u001B[1;32mD:\\Anaconda\\lib\\site-packages\\pandas\\core\\indexing.py:2383\u001B[0m, in \u001B[0;36mcheck_bool_indexer\u001B[1;34m(index, key)\u001B[0m\n\u001B[0;32m   2381\u001B[0m     mask \u001B[38;5;241m=\u001B[39m isna(result\u001B[38;5;241m.\u001B[39m_values)\n\u001B[0;32m   2382\u001B[0m     \u001B[38;5;28;01mif\u001B[39;00m mask\u001B[38;5;241m.\u001B[39many():\n\u001B[1;32m-> 2383\u001B[0m         \u001B[38;5;28;01mraise\u001B[39;00m IndexingError(\n\u001B[0;32m   2384\u001B[0m             \u001B[38;5;124m\"\u001B[39m\u001B[38;5;124mUnalignable boolean Series provided as \u001B[39m\u001B[38;5;124m\"\u001B[39m\n\u001B[0;32m   2385\u001B[0m             \u001B[38;5;124m\"\u001B[39m\u001B[38;5;124mindexer (index of the boolean Series and of \u001B[39m\u001B[38;5;124m\"\u001B[39m\n\u001B[0;32m   2386\u001B[0m             \u001B[38;5;124m\"\u001B[39m\u001B[38;5;124mthe indexed object do not match).\u001B[39m\u001B[38;5;124m\"\u001B[39m\n\u001B[0;32m   2387\u001B[0m         )\n\u001B[0;32m   2388\u001B[0m     \u001B[38;5;28;01mreturn\u001B[39;00m result\u001B[38;5;241m.\u001B[39mastype(\u001B[38;5;28mbool\u001B[39m)\u001B[38;5;241m.\u001B[39m_values\n\u001B[0;32m   2389\u001B[0m \u001B[38;5;28;01mif\u001B[39;00m is_object_dtype(key):\n\u001B[0;32m   2390\u001B[0m     \u001B[38;5;66;03m# key might be object-dtype bool, check_array_indexer needs bool array\u001B[39;00m\n",
      "\u001B[1;31mIndexingError\u001B[0m: Unalignable boolean Series provided as indexer (index of the boolean Series and of the indexed object do not match)."
     ]
    }
   ],
   "source": [
    "correlated = abs(mtx_data['HbA1c']) >0.01"
   ],
   "metadata": {
    "collapsed": false,
    "pycharm": {
     "name": "#%%\n"
    }
   }
  },
  {
   "cell_type": "code",
   "execution_count": 109,
   "outputs": [
    {
     "name": "stdout",
     "output_type": "stream",
     "text": [
      "[9.69033431e-01 9.15755771e-03 7.19760521e-03 5.95817098e-03\n",
      " 2.83734393e-03 1.55368140e-03 1.49627346e-03 1.17804951e-03\n",
      " 3.50206724e-04 3.03208105e-04 2.21892000e-04 1.66017658e-04\n",
      " 1.35160952e-04 9.76897455e-05 4.52715998e-05 4.42175345e-05\n",
      " 3.15246750e-05 2.70894119e-05 2.37976078e-05 1.82549535e-05]\n"
     ]
    }
   ],
   "source": [
    "# PCA decomposition\n",
    "from sklearn.decomposition import PCA\n",
    "pca = PCA(n_components=20)\n",
    "new_X = pca.fit_transform(X)\n",
    "print(pca.explained_variance_ratio_)"
   ],
   "metadata": {
    "collapsed": false,
    "pycharm": {
     "name": "#%%\n"
    }
   }
  },
  {
   "cell_type": "code",
   "execution_count": null,
   "outputs": [],
   "source": [],
   "metadata": {
    "collapsed": false,
    "pycharm": {
     "name": "#%%\n"
    }
   }
  }
 ],
 "metadata": {
  "kernelspec": {
   "display_name": "Python 3",
   "language": "python",
   "name": "python3"
  },
  "language_info": {
   "codemirror_mode": {
    "name": "ipython",
    "version": 2
   },
   "file_extension": ".py",
   "mimetype": "text/x-python",
   "name": "python",
   "nbconvert_exporter": "python",
   "pygments_lexer": "ipython2",
   "version": "2.7.6"
  }
 },
 "nbformat": 4,
 "nbformat_minor": 0
}