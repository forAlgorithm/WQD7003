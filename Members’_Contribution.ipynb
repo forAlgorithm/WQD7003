{
 "cells": [
  {
   "cell_type": "markdown",
   "metadata": {},
   "source": [
    "# Names\n",
    "* S2174087/1 JUNHAO XU (Leader)\n",
    "* S2164604/1 ELAINE LI\n",
    "* S2175919/1 HAOJIE CHU\n",
    "* S2180377/1 YING MING TANG\n",
    "* S2157792/1 PENGWEI LI\n",
    "* S2174898/1 ZHENG WANG"
   ]
  },
  {
   "cell_type": "markdown",
   "metadata": {},
   "source": [
    "* ELAINE LI\n",
    "* JUNHAO XU\n",
    "Organize staff, create code repository, complete initial exploration analysis and overview of data and visualization\n",
    "* HAOJIE CHU\n",
    "* YING MING TANG\n",
    "* PENGWEI LI\n",
    "* ZHENG WANG"
   ]
  }
 ],
 "metadata": {
  "kernelspec": {
   "display_name": "Python 3.9.7 ('base')",
   "language": "python",
   "name": "python3"
  },
  "language_info": {
   "name": "python",
   "version": "3.9.7"
  },
  "orig_nbformat": 4,
  "vscode": {
   "interpreter": {
    "hash": "3485bcf4dac6ec0cb90476b549a2d23f9e318cb0bb2171dc030e5f627671ed9f"
   }
  }
 },
 "nbformat": 4,
 "nbformat_minor": 2
}
